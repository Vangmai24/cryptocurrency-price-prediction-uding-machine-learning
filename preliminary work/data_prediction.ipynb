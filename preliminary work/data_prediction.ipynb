{
 "cells": [
  {
   "cell_type": "code",
   "execution_count": 46,
   "id": "70f808ac",
   "metadata": {},
   "outputs": [],
   "source": [
    "#tensorflow_version 2.x\n",
    "import json\n",
    "import requests\n",
    "from keras.models import Sequential\n",
    "from keras.layers import Activation, Dense, Dropout, LSTM\n",
    "import matplotlib.pyplot as plt\n",
    "import numpy as np\n",
    "import pandas as pd\n",
    "import seaborn as sns\n",
    "from sklearn.metrics import mean_absolute_error\n",
    "#matplotlib inline"
   ]
  },
  {
   "cell_type": "code",
   "execution_count": 47,
   "id": "a051b656",
   "metadata": {},
   "outputs": [],
   "source": [
    "endpoint = 'https://min-api.cryptocompare.com/data/histoday'\n",
    "res = requests.get(endpoint + '?fsym=BTC&tsym=CAD&limit=500')\n",
    "hist = pd.DataFrame(json.loads(res.content)['Data'])\n",
    "hist = hist.set_index('time')\n",
    "hist.index = pd.to_datetime(hist.index, unit='s')\n",
    "target_col = 'close'"
   ]
  },
  {
   "cell_type": "code",
   "execution_count": 48,
   "id": "43b108e8",
   "metadata": {},
   "outputs": [
    {
     "name": "stdout",
     "output_type": "stream",
     "text": [
      "                high       low      open  volumefrom      volumeto     close  \\\n",
      "time                                                                           \n",
      "2021-10-18  77859.95  74130.81  76310.52     5344.16  4.090249e+08  76986.11   \n",
      "2021-10-19  79874.29  75657.81  76986.11     5157.34  3.998002e+08  79638.77   \n",
      "2021-10-20  82699.14  78170.67  79638.77     5643.79  4.524044e+08  81043.53   \n",
      "2021-10-21  82406.55  76363.84  81043.53     3559.59  2.821444e+08  76757.39   \n",
      "2021-10-22  78858.33  74087.86  76757.39     4013.28  3.086047e+08  74766.56   \n",
      "...              ...       ...       ...         ...           ...       ...   \n",
      "2023-02-26  32198.13  31409.13  31542.40       48.99  1.554089e+06  32014.06   \n",
      "2023-02-27  32414.07  31459.63  32014.06       73.08  2.329348e+06  31890.81   \n",
      "2023-02-28  32083.25  31435.88  31890.81       77.81  2.475149e+06  31541.25   \n",
      "2023-03-01  32832.70  31463.58  31541.25       98.50  3.163952e+06  32125.12   \n",
      "2023-03-02  32315.95  31774.40  32125.12       21.45  6.852915e+05  31874.37   \n",
      "\n",
      "           conversionType conversionSymbol  \n",
      "time                                        \n",
      "2021-10-18         direct                   \n",
      "2021-10-19         direct                   \n",
      "2021-10-20         direct                   \n",
      "2021-10-21         direct                   \n",
      "2021-10-22         direct                   \n",
      "...                   ...              ...  \n",
      "2023-02-26         direct                   \n",
      "2023-02-27         direct                   \n",
      "2023-02-28         direct                   \n",
      "2023-03-01         direct                   \n",
      "2023-03-02         direct                   \n",
      "\n",
      "[501 rows x 8 columns]\n"
     ]
    }
   ],
   "source": [
    "print(hist)"
   ]
  },
  {
   "cell_type": "code",
   "execution_count": 49,
   "id": "ce7f62c8",
   "metadata": {},
   "outputs": [],
   "source": [
    "hist.drop([\"conversionType\", \"conversionSymbol\"], axis = 'columns', inplace = True)"
   ]
  },
  {
   "cell_type": "code",
   "execution_count": 50,
   "id": "c50bbcd4",
   "metadata": {},
   "outputs": [
    {
     "data": {
      "text/html": [
       "<div>\n",
       "<style scoped>\n",
       "    .dataframe tbody tr th:only-of-type {\n",
       "        vertical-align: middle;\n",
       "    }\n",
       "\n",
       "    .dataframe tbody tr th {\n",
       "        vertical-align: top;\n",
       "    }\n",
       "\n",
       "    .dataframe thead th {\n",
       "        text-align: right;\n",
       "    }\n",
       "</style>\n",
       "<table border=\"1\" class=\"dataframe\">\n",
       "  <thead>\n",
       "    <tr style=\"text-align: right;\">\n",
       "      <th></th>\n",
       "      <th>high</th>\n",
       "      <th>low</th>\n",
       "      <th>open</th>\n",
       "      <th>volumefrom</th>\n",
       "      <th>volumeto</th>\n",
       "      <th>close</th>\n",
       "    </tr>\n",
       "    <tr>\n",
       "      <th>time</th>\n",
       "      <th></th>\n",
       "      <th></th>\n",
       "      <th></th>\n",
       "      <th></th>\n",
       "      <th></th>\n",
       "      <th></th>\n",
       "    </tr>\n",
       "  </thead>\n",
       "  <tbody>\n",
       "    <tr>\n",
       "      <th>2021-10-18</th>\n",
       "      <td>77859.95</td>\n",
       "      <td>74130.81</td>\n",
       "      <td>76310.52</td>\n",
       "      <td>5344.16</td>\n",
       "      <td>4.090249e+08</td>\n",
       "      <td>76986.11</td>\n",
       "    </tr>\n",
       "    <tr>\n",
       "      <th>2021-10-19</th>\n",
       "      <td>79874.29</td>\n",
       "      <td>75657.81</td>\n",
       "      <td>76986.11</td>\n",
       "      <td>5157.34</td>\n",
       "      <td>3.998002e+08</td>\n",
       "      <td>79638.77</td>\n",
       "    </tr>\n",
       "    <tr>\n",
       "      <th>2021-10-20</th>\n",
       "      <td>82699.14</td>\n",
       "      <td>78170.67</td>\n",
       "      <td>79638.77</td>\n",
       "      <td>5643.79</td>\n",
       "      <td>4.524044e+08</td>\n",
       "      <td>81043.53</td>\n",
       "    </tr>\n",
       "    <tr>\n",
       "      <th>2021-10-21</th>\n",
       "      <td>82406.55</td>\n",
       "      <td>76363.84</td>\n",
       "      <td>81043.53</td>\n",
       "      <td>3559.59</td>\n",
       "      <td>2.821444e+08</td>\n",
       "      <td>76757.39</td>\n",
       "    </tr>\n",
       "    <tr>\n",
       "      <th>2021-10-22</th>\n",
       "      <td>78858.33</td>\n",
       "      <td>74087.86</td>\n",
       "      <td>76757.39</td>\n",
       "      <td>4013.28</td>\n",
       "      <td>3.086047e+08</td>\n",
       "      <td>74766.56</td>\n",
       "    </tr>\n",
       "    <tr>\n",
       "      <th>...</th>\n",
       "      <td>...</td>\n",
       "      <td>...</td>\n",
       "      <td>...</td>\n",
       "      <td>...</td>\n",
       "      <td>...</td>\n",
       "      <td>...</td>\n",
       "    </tr>\n",
       "    <tr>\n",
       "      <th>2023-02-26</th>\n",
       "      <td>32198.13</td>\n",
       "      <td>31409.13</td>\n",
       "      <td>31542.40</td>\n",
       "      <td>48.99</td>\n",
       "      <td>1.554089e+06</td>\n",
       "      <td>32014.06</td>\n",
       "    </tr>\n",
       "    <tr>\n",
       "      <th>2023-02-27</th>\n",
       "      <td>32414.07</td>\n",
       "      <td>31459.63</td>\n",
       "      <td>32014.06</td>\n",
       "      <td>73.08</td>\n",
       "      <td>2.329348e+06</td>\n",
       "      <td>31890.81</td>\n",
       "    </tr>\n",
       "    <tr>\n",
       "      <th>2023-02-28</th>\n",
       "      <td>32083.25</td>\n",
       "      <td>31435.88</td>\n",
       "      <td>31890.81</td>\n",
       "      <td>77.81</td>\n",
       "      <td>2.475149e+06</td>\n",
       "      <td>31541.25</td>\n",
       "    </tr>\n",
       "    <tr>\n",
       "      <th>2023-03-01</th>\n",
       "      <td>32832.70</td>\n",
       "      <td>31463.58</td>\n",
       "      <td>31541.25</td>\n",
       "      <td>98.50</td>\n",
       "      <td>3.163952e+06</td>\n",
       "      <td>32125.12</td>\n",
       "    </tr>\n",
       "    <tr>\n",
       "      <th>2023-03-02</th>\n",
       "      <td>32315.95</td>\n",
       "      <td>31774.40</td>\n",
       "      <td>32125.12</td>\n",
       "      <td>21.45</td>\n",
       "      <td>6.852915e+05</td>\n",
       "      <td>31874.37</td>\n",
       "    </tr>\n",
       "  </tbody>\n",
       "</table>\n",
       "<p>501 rows × 6 columns</p>\n",
       "</div>"
      ],
      "text/plain": [
       "                high       low      open  volumefrom      volumeto     close\n",
       "time                                                                        \n",
       "2021-10-18  77859.95  74130.81  76310.52     5344.16  4.090249e+08  76986.11\n",
       "2021-10-19  79874.29  75657.81  76986.11     5157.34  3.998002e+08  79638.77\n",
       "2021-10-20  82699.14  78170.67  79638.77     5643.79  4.524044e+08  81043.53\n",
       "2021-10-21  82406.55  76363.84  81043.53     3559.59  2.821444e+08  76757.39\n",
       "2021-10-22  78858.33  74087.86  76757.39     4013.28  3.086047e+08  74766.56\n",
       "...              ...       ...       ...         ...           ...       ...\n",
       "2023-02-26  32198.13  31409.13  31542.40       48.99  1.554089e+06  32014.06\n",
       "2023-02-27  32414.07  31459.63  32014.06       73.08  2.329348e+06  31890.81\n",
       "2023-02-28  32083.25  31435.88  31890.81       77.81  2.475149e+06  31541.25\n",
       "2023-03-01  32832.70  31463.58  31541.25       98.50  3.163952e+06  32125.12\n",
       "2023-03-02  32315.95  31774.40  32125.12       21.45  6.852915e+05  31874.37\n",
       "\n",
       "[501 rows x 6 columns]"
      ]
     },
     "execution_count": 50,
     "metadata": {},
     "output_type": "execute_result"
    }
   ],
   "source": [
    "hist"
   ]
  },
  {
   "cell_type": "code",
   "execution_count": 51,
   "id": "4fcc6b34",
   "metadata": {},
   "outputs": [],
   "source": [
    "def train_test_split(df, test_size=0.2):\n",
    "    split_row = len(df) - int(test_size * len(df))\n",
    "    train_data = df.iloc[:split_row]\n",
    "    test_data = df.iloc[split_row:]\n",
    "    return train_data, test_data"
   ]
  },
  {
   "cell_type": "code",
   "execution_count": 52,
   "id": "c67a47ee",
   "metadata": {},
   "outputs": [],
   "source": [
    "train, test = train_test_split(hist, test_size=0.2)"
   ]
  },
  {
   "cell_type": "code",
   "execution_count": 53,
   "id": "e806a4cf",
   "metadata": {},
   "outputs": [
    {
     "data": {
      "text/html": [
       "<div>\n",
       "<style scoped>\n",
       "    .dataframe tbody tr th:only-of-type {\n",
       "        vertical-align: middle;\n",
       "    }\n",
       "\n",
       "    .dataframe tbody tr th {\n",
       "        vertical-align: top;\n",
       "    }\n",
       "\n",
       "    .dataframe thead th {\n",
       "        text-align: right;\n",
       "    }\n",
       "</style>\n",
       "<table border=\"1\" class=\"dataframe\">\n",
       "  <thead>\n",
       "    <tr style=\"text-align: right;\">\n",
       "      <th></th>\n",
       "      <th>high</th>\n",
       "      <th>low</th>\n",
       "      <th>open</th>\n",
       "      <th>volumefrom</th>\n",
       "      <th>volumeto</th>\n",
       "      <th>close</th>\n",
       "    </tr>\n",
       "    <tr>\n",
       "      <th>time</th>\n",
       "      <th></th>\n",
       "      <th></th>\n",
       "      <th></th>\n",
       "      <th></th>\n",
       "      <th></th>\n",
       "      <th></th>\n",
       "    </tr>\n",
       "  </thead>\n",
       "  <tbody>\n",
       "    <tr>\n",
       "      <th>2021-10-18</th>\n",
       "      <td>77859.95</td>\n",
       "      <td>74130.81</td>\n",
       "      <td>76310.52</td>\n",
       "      <td>5344.16</td>\n",
       "      <td>4.090249e+08</td>\n",
       "      <td>76986.11</td>\n",
       "    </tr>\n",
       "    <tr>\n",
       "      <th>2021-10-19</th>\n",
       "      <td>79874.29</td>\n",
       "      <td>75657.81</td>\n",
       "      <td>76986.11</td>\n",
       "      <td>5157.34</td>\n",
       "      <td>3.998002e+08</td>\n",
       "      <td>79638.77</td>\n",
       "    </tr>\n",
       "    <tr>\n",
       "      <th>2021-10-20</th>\n",
       "      <td>82699.14</td>\n",
       "      <td>78170.67</td>\n",
       "      <td>79638.77</td>\n",
       "      <td>5643.79</td>\n",
       "      <td>4.524044e+08</td>\n",
       "      <td>81043.53</td>\n",
       "    </tr>\n",
       "    <tr>\n",
       "      <th>2021-10-21</th>\n",
       "      <td>82406.55</td>\n",
       "      <td>76363.84</td>\n",
       "      <td>81043.53</td>\n",
       "      <td>3559.59</td>\n",
       "      <td>2.821444e+08</td>\n",
       "      <td>76757.39</td>\n",
       "    </tr>\n",
       "    <tr>\n",
       "      <th>2021-10-22</th>\n",
       "      <td>78858.33</td>\n",
       "      <td>74087.86</td>\n",
       "      <td>76757.39</td>\n",
       "      <td>4013.28</td>\n",
       "      <td>3.086047e+08</td>\n",
       "      <td>74766.56</td>\n",
       "    </tr>\n",
       "    <tr>\n",
       "      <th>...</th>\n",
       "      <td>...</td>\n",
       "      <td>...</td>\n",
       "      <td>...</td>\n",
       "      <td>...</td>\n",
       "      <td>...</td>\n",
       "      <td>...</td>\n",
       "    </tr>\n",
       "    <tr>\n",
       "      <th>2022-11-18</th>\n",
       "      <td>22578.23</td>\n",
       "      <td>22152.09</td>\n",
       "      <td>22220.64</td>\n",
       "      <td>98.91</td>\n",
       "      <td>2.205499e+06</td>\n",
       "      <td>22361.69</td>\n",
       "    </tr>\n",
       "    <tr>\n",
       "      <th>2022-11-19</th>\n",
       "      <td>22456.74</td>\n",
       "      <td>22164.64</td>\n",
       "      <td>22361.69</td>\n",
       "      <td>49.45</td>\n",
       "      <td>1.100415e+06</td>\n",
       "      <td>22315.57</td>\n",
       "    </tr>\n",
       "    <tr>\n",
       "      <th>2022-11-20</th>\n",
       "      <td>22368.64</td>\n",
       "      <td>21662.48</td>\n",
       "      <td>22315.57</td>\n",
       "      <td>63.44</td>\n",
       "      <td>1.400768e+06</td>\n",
       "      <td>21746.66</td>\n",
       "    </tr>\n",
       "    <tr>\n",
       "      <th>2022-11-21</th>\n",
       "      <td>21769.73</td>\n",
       "      <td>20919.07</td>\n",
       "      <td>21746.66</td>\n",
       "      <td>118.06</td>\n",
       "      <td>2.529222e+06</td>\n",
       "      <td>21183.21</td>\n",
       "    </tr>\n",
       "    <tr>\n",
       "      <th>2022-11-22</th>\n",
       "      <td>21774.04</td>\n",
       "      <td>20993.48</td>\n",
       "      <td>21183.21</td>\n",
       "      <td>113.23</td>\n",
       "      <td>2.423643e+06</td>\n",
       "      <td>21614.95</td>\n",
       "    </tr>\n",
       "  </tbody>\n",
       "</table>\n",
       "<p>401 rows × 6 columns</p>\n",
       "</div>"
      ],
      "text/plain": [
       "                high       low      open  volumefrom      volumeto     close\n",
       "time                                                                        \n",
       "2021-10-18  77859.95  74130.81  76310.52     5344.16  4.090249e+08  76986.11\n",
       "2021-10-19  79874.29  75657.81  76986.11     5157.34  3.998002e+08  79638.77\n",
       "2021-10-20  82699.14  78170.67  79638.77     5643.79  4.524044e+08  81043.53\n",
       "2021-10-21  82406.55  76363.84  81043.53     3559.59  2.821444e+08  76757.39\n",
       "2021-10-22  78858.33  74087.86  76757.39     4013.28  3.086047e+08  74766.56\n",
       "...              ...       ...       ...         ...           ...       ...\n",
       "2022-11-18  22578.23  22152.09  22220.64       98.91  2.205499e+06  22361.69\n",
       "2022-11-19  22456.74  22164.64  22361.69       49.45  1.100415e+06  22315.57\n",
       "2022-11-20  22368.64  21662.48  22315.57       63.44  1.400768e+06  21746.66\n",
       "2022-11-21  21769.73  20919.07  21746.66      118.06  2.529222e+06  21183.21\n",
       "2022-11-22  21774.04  20993.48  21183.21      113.23  2.423643e+06  21614.95\n",
       "\n",
       "[401 rows x 6 columns]"
      ]
     },
     "execution_count": 53,
     "metadata": {},
     "output_type": "execute_result"
    }
   ],
   "source": [
    "train"
   ]
  },
  {
   "cell_type": "code",
   "execution_count": 54,
   "id": "c2704ebf",
   "metadata": {},
   "outputs": [
    {
     "data": {
      "text/html": [
       "<div>\n",
       "<style scoped>\n",
       "    .dataframe tbody tr th:only-of-type {\n",
       "        vertical-align: middle;\n",
       "    }\n",
       "\n",
       "    .dataframe tbody tr th {\n",
       "        vertical-align: top;\n",
       "    }\n",
       "\n",
       "    .dataframe thead th {\n",
       "        text-align: right;\n",
       "    }\n",
       "</style>\n",
       "<table border=\"1\" class=\"dataframe\">\n",
       "  <thead>\n",
       "    <tr style=\"text-align: right;\">\n",
       "      <th></th>\n",
       "      <th>high</th>\n",
       "      <th>low</th>\n",
       "      <th>open</th>\n",
       "      <th>volumefrom</th>\n",
       "      <th>volumeto</th>\n",
       "      <th>close</th>\n",
       "    </tr>\n",
       "    <tr>\n",
       "      <th>time</th>\n",
       "      <th></th>\n",
       "      <th></th>\n",
       "      <th></th>\n",
       "      <th></th>\n",
       "      <th></th>\n",
       "      <th></th>\n",
       "    </tr>\n",
       "  </thead>\n",
       "  <tbody>\n",
       "    <tr>\n",
       "      <th>2022-11-23</th>\n",
       "      <td>22396.66</td>\n",
       "      <td>21558.65</td>\n",
       "      <td>21614.95</td>\n",
       "      <td>170.08</td>\n",
       "      <td>3733691.23</td>\n",
       "      <td>22169.32</td>\n",
       "    </tr>\n",
       "    <tr>\n",
       "      <th>2022-11-24</th>\n",
       "      <td>22344.87</td>\n",
       "      <td>21743.92</td>\n",
       "      <td>22169.32</td>\n",
       "      <td>83.19</td>\n",
       "      <td>1840051.20</td>\n",
       "      <td>22136.58</td>\n",
       "    </tr>\n",
       "    <tr>\n",
       "      <th>2022-11-25</th>\n",
       "      <td>22398.31</td>\n",
       "      <td>21812.25</td>\n",
       "      <td>22136.58</td>\n",
       "      <td>90.33</td>\n",
       "      <td>1990866.59</td>\n",
       "      <td>22149.44</td>\n",
       "    </tr>\n",
       "    <tr>\n",
       "      <th>2022-11-26</th>\n",
       "      <td>22312.82</td>\n",
       "      <td>21975.93</td>\n",
       "      <td>22149.44</td>\n",
       "      <td>81.71</td>\n",
       "      <td>1811134.64</td>\n",
       "      <td>22059.92</td>\n",
       "    </tr>\n",
       "    <tr>\n",
       "      <th>2022-11-27</th>\n",
       "      <td>22225.88</td>\n",
       "      <td>22003.39</td>\n",
       "      <td>22059.92</td>\n",
       "      <td>57.25</td>\n",
       "      <td>1267819.54</td>\n",
       "      <td>22029.45</td>\n",
       "    </tr>\n",
       "    <tr>\n",
       "      <th>...</th>\n",
       "      <td>...</td>\n",
       "      <td>...</td>\n",
       "      <td>...</td>\n",
       "      <td>...</td>\n",
       "      <td>...</td>\n",
       "      <td>...</td>\n",
       "    </tr>\n",
       "    <tr>\n",
       "      <th>2023-02-26</th>\n",
       "      <td>32198.13</td>\n",
       "      <td>31409.13</td>\n",
       "      <td>31542.40</td>\n",
       "      <td>48.99</td>\n",
       "      <td>1554088.67</td>\n",
       "      <td>32014.06</td>\n",
       "    </tr>\n",
       "    <tr>\n",
       "      <th>2023-02-27</th>\n",
       "      <td>32414.07</td>\n",
       "      <td>31459.63</td>\n",
       "      <td>32014.06</td>\n",
       "      <td>73.08</td>\n",
       "      <td>2329348.39</td>\n",
       "      <td>31890.81</td>\n",
       "    </tr>\n",
       "    <tr>\n",
       "      <th>2023-02-28</th>\n",
       "      <td>32083.25</td>\n",
       "      <td>31435.88</td>\n",
       "      <td>31890.81</td>\n",
       "      <td>77.81</td>\n",
       "      <td>2475149.21</td>\n",
       "      <td>31541.25</td>\n",
       "    </tr>\n",
       "    <tr>\n",
       "      <th>2023-03-01</th>\n",
       "      <td>32832.70</td>\n",
       "      <td>31463.58</td>\n",
       "      <td>31541.25</td>\n",
       "      <td>98.50</td>\n",
       "      <td>3163952.33</td>\n",
       "      <td>32125.12</td>\n",
       "    </tr>\n",
       "    <tr>\n",
       "      <th>2023-03-02</th>\n",
       "      <td>32315.95</td>\n",
       "      <td>31774.40</td>\n",
       "      <td>32125.12</td>\n",
       "      <td>21.45</td>\n",
       "      <td>685291.54</td>\n",
       "      <td>31874.37</td>\n",
       "    </tr>\n",
       "  </tbody>\n",
       "</table>\n",
       "<p>100 rows × 6 columns</p>\n",
       "</div>"
      ],
      "text/plain": [
       "                high       low      open  volumefrom    volumeto     close\n",
       "time                                                                      \n",
       "2022-11-23  22396.66  21558.65  21614.95      170.08  3733691.23  22169.32\n",
       "2022-11-24  22344.87  21743.92  22169.32       83.19  1840051.20  22136.58\n",
       "2022-11-25  22398.31  21812.25  22136.58       90.33  1990866.59  22149.44\n",
       "2022-11-26  22312.82  21975.93  22149.44       81.71  1811134.64  22059.92\n",
       "2022-11-27  22225.88  22003.39  22059.92       57.25  1267819.54  22029.45\n",
       "...              ...       ...       ...         ...         ...       ...\n",
       "2023-02-26  32198.13  31409.13  31542.40       48.99  1554088.67  32014.06\n",
       "2023-02-27  32414.07  31459.63  32014.06       73.08  2329348.39  31890.81\n",
       "2023-02-28  32083.25  31435.88  31890.81       77.81  2475149.21  31541.25\n",
       "2023-03-01  32832.70  31463.58  31541.25       98.50  3163952.33  32125.12\n",
       "2023-03-02  32315.95  31774.40  32125.12       21.45   685291.54  31874.37\n",
       "\n",
       "[100 rows x 6 columns]"
      ]
     },
     "execution_count": 54,
     "metadata": {},
     "output_type": "execute_result"
    }
   ],
   "source": [
    "test"
   ]
  },
  {
   "cell_type": "code",
   "execution_count": 55,
   "id": "a8dfe847",
   "metadata": {},
   "outputs": [],
   "source": [
    "def line_plot(line1, line2, label1=None, label2=None, title='', lw=2):\n",
    "    fig, ax = plt.subplots(1, figsize=(13, 7))\n",
    "    ax.plot(line1, label=label1, linewidth=lw)\n",
    "    ax.plot(line2, label=label2, linewidth=lw)\n",
    "    ax.set_ylabel('price [CAD]', fontsize=14)\n",
    "    ax.set_title(title, fontsize=16)\n",
    "    ax.legend(loc='best', fontsize=16);"
   ]
  },
  {
   "cell_type": "code",
   "execution_count": 56,
   "id": "7b1aa066",
   "metadata": {},
   "outputs": [
    {
     "data": {
      "image/png": "[encoded data removed]",
      "text/plain": [
       "<Figure size 936x504 with 1 Axes>"
      ]
     },
     "metadata": {
      "needs_background": "light"
     },
     "output_type": "display_data"
    }
   ],
   "source": [
    "line_plot(train[target_col], test[target_col], 'training', 'test', title='')\n"
   ]
  },
  {
   "cell_type": "code",
   "execution_count": 57,
   "id": "bc38b1c2",
   "metadata": {},
   "outputs": [],
   "source": [
    "def normalise_zero_base(df):\n",
    "    return df / df.iloc[0] - 1\n",
    "\n",
    "def normalise_min_max(df):\n",
    "    return (df - df.min()) / (data.max() - df.min())"
   ]
  },
  {
   "cell_type": "code",
   "execution_count": 58,
   "id": "8fb681e2",
   "metadata": {},
   "outputs": [],
   "source": [
    "def extract_window_data(df, window_len=5, zero_base=True):\n",
    "    window_data = []\n",
    "    for idx in range(len(df) - window_len):\n",
    "        tmp = df[idx: (idx + window_len)].copy()\n",
    "        if zero_base:\n",
    "            tmp = normalise_zero_base(tmp)\n",
    "        window_data.append(tmp.values)\n",
    "    return np.array(window_data)"
   ]
  },
  {
   "cell_type": "code",
   "execution_count": 59,
   "id": "a5cf7634",
   "metadata": {},
   "outputs": [],
   "source": [
    "def prepare_data(df, target_col, window_len=10, zero_base=True, test_size=0.2):\n",
    "    train_data, test_data = train_test_split(df, test_size=test_size)\n",
    "    X_train = extract_window_data(train_data, window_len, zero_base)\n",
    "    X_test = extract_window_data(test_data, window_len, zero_base)\n",
    "    y_train = train_data[target_col][window_len:].values\n",
    "    y_test = test_data[target_col][window_len:].values\n",
    "    if zero_base:\n",
    "        y_train = y_train / train_data[target_col][:-window_len].values - 1\n",
    "        y_test = y_test / test_data[target_col][:-window_len].values - 1\n",
    "\n",
    "    return train_data, test_data, X_train, X_test, y_train, y_test"
   ]
  },
  {
   "cell_type": "code",
   "execution_count": 60,
   "id": "b1701f8e",
   "metadata": {},
   "outputs": [],
   "source": [
    "def build_lstm_model(input_data, output_size, neurons=100, activ_func='linear',\n",
    "                     dropout=0.2, loss='mse', optimizer='adam'):\n",
    "    model = Sequential()\n",
    "    model.add(LSTM(neurons, input_shape=(input_data.shape[1], input_data.shape[2])))\n",
    "    model.add(Dropout(dropout))\n",
    "    model.add(Dense(units=output_size))\n",
    "    model.add(Activation(activ_func))\n",
    "\n",
    "    model.compile(loss=loss, optimizer=optimizer)\n",
    "    return model"
   ]
  },
  {
   "cell_type": "code",
   "execution_count": 61,
   "id": "1cf24b4a",
   "metadata": {},
   "outputs": [],
   "source": [
    "np.random.seed(42)\n",
    "window_len = 5\n",
    "test_size = 0.2\n",
    "zero_base = True\n",
    "lstm_neurons = 200\n",
    "epochs = 25\n",
    "batch_size = 36\n",
    "loss = 'mse'\n",
    "dropout = 0.2\n",
    "optimizer = 'adam'"
   ]
  },
  {
   "cell_type": "code",
   "execution_count": 62,
   "id": "683ba1a9",
   "metadata": {},
   "outputs": [],
   "source": [
    "train, test, X_train, X_test, y_train, y_test = prepare_data(hist, target_col, window_len=window_len, zero_base=zero_base, test_size=test_size)"
   ]
  },
  {
   "cell_type": "code",
   "execution_count": 63,
   "id": "4226b0e1",
   "metadata": {},
   "outputs": [
    {
     "name": "stdout",
     "output_type": "stream",
     "text": [
      "Epoch 1/25\n",
      "11/11 [==============================] - 4s 99ms/step - loss: 0.0045 - val_loss: 0.0027\n",
      "Epoch 2/25\n",
      "11/11 [==============================] - 0s 17ms/step - loss: 0.0034 - val_loss: 0.0015\n",
      "Epoch 3/25\n",
      "11/11 [==============================] - 0s 18ms/step - loss: 0.0034 - val_loss: 0.0010\n",
      "Epoch 4/25\n",
      "11/11 [==============================] - 0s 17ms/step - loss: 0.0025 - val_loss: 0.0013\n",
      "Epoch 5/25\n",
      "11/11 [==============================] - 0s 17ms/step - loss: 0.0022 - val_loss: 0.0016\n",
      "Epoch 6/25\n",
      "11/11 [==============================] - 0s 18ms/step - loss: 0.0022 - val_loss: 0.0011\n",
      "Epoch 7/25\n",
      "11/11 [==============================] - 0s 17ms/step - loss: 0.0020 - val_loss: 9.7899e-04\n",
      "Epoch 8/25\n",
      "11/11 [==============================] - 0s 21ms/step - loss: 0.0019 - val_loss: 8.0200e-04\n",
      "Epoch 9/25\n",
      "11/11 [==============================] - 0s 17ms/step - loss: 0.0018 - val_loss: 0.0011\n",
      "Epoch 10/25\n",
      "11/11 [==============================] - 0s 18ms/step - loss: 0.0020 - val_loss: 9.8058e-04\n",
      "Epoch 11/25\n",
      "11/11 [==============================] - 0s 17ms/step - loss: 0.0017 - val_loss: 7.8654e-04\n",
      "Epoch 12/25\n",
      "11/11 [==============================] - 0s 17ms/step - loss: 0.0018 - val_loss: 7.6165e-04\n",
      "Epoch 13/25\n",
      "11/11 [==============================] - 0s 16ms/step - loss: 0.0017 - val_loss: 9.1878e-04\n",
      "Epoch 14/25\n",
      "11/11 [==============================] - 0s 20ms/step - loss: 0.0018 - val_loss: 9.6922e-04\n",
      "Epoch 15/25\n",
      "11/11 [==============================] - 0s 20ms/step - loss: 0.0016 - val_loss: 7.6398e-04\n",
      "Epoch 16/25\n",
      "11/11 [==============================] - 0s 18ms/step - loss: 0.0016 - val_loss: 7.5052e-04\n",
      "Epoch 17/25\n",
      "11/11 [==============================] - 0s 19ms/step - loss: 0.0016 - val_loss: 8.4902e-04\n",
      "Epoch 18/25\n",
      "11/11 [==============================] - 0s 20ms/step - loss: 0.0014 - val_loss: 6.6821e-04\n",
      "Epoch 19/25\n",
      "11/11 [==============================] - 0s 18ms/step - loss: 0.0015 - val_loss: 7.3824e-04\n",
      "Epoch 20/25\n",
      "11/11 [==============================] - 0s 19ms/step - loss: 0.0013 - val_loss: 6.8375e-04\n",
      "Epoch 21/25\n",
      "11/11 [==============================] - 0s 18ms/step - loss: 0.0015 - val_loss: 6.5447e-04\n",
      "Epoch 22/25\n",
      "11/11 [==============================] - 0s 19ms/step - loss: 0.0016 - val_loss: 6.7350e-04\n",
      "Epoch 23/25\n",
      "11/11 [==============================] - 0s 18ms/step - loss: 0.0015 - val_loss: 8.8712e-04\n",
      "Epoch 24/25\n",
      "11/11 [==============================] - 0s 21ms/step - loss: 0.0017 - val_loss: 6.7880e-04\n",
      "Epoch 25/25\n",
      "11/11 [==============================] - 0s 19ms/step - loss: 0.0014 - val_loss: 6.2413e-04\n",
      "<class 'keras.engine.sequential.Sequential'>\n",
      "<class 'keras.callbacks.History'>\n",
      "<class 'dict'>\n"
     ]
    }
   ],
   "source": [
    "model = build_lstm_model(X_train, output_size=1, neurons=lstm_neurons, dropout=dropout, loss=loss,optimizer=optimizer)\n",
    "history = model.fit(X_train, y_train, validation_data=(X_test, y_test), epochs=epochs, batch_size=batch_size, verbose=1, shuffle=True)\n",
    "print(type(model))\n",
    "print(type(history))\n",
    "print(type(history.history))"
   ]
  },
  {
   "cell_type": "code",
   "execution_count": 64,
   "id": "d3d933a5",
   "metadata": {},
   "outputs": [
    {
     "name": "stdout",
     "output_type": "stream",
     "text": [
      "<keras.callbacks.History object at 0x00000209CA595B80>\n"
     ]
    }
   ],
   "source": [
    "print(history)"
   ]
  },
  {
   "cell_type": "code",
   "execution_count": 65,
   "id": "3865fb1d",
   "metadata": {},
   "outputs": [
    {
     "data": {
      "image/png": "[encoded data removed]",
      "text/plain": [
       "<Figure size 432x288 with 1 Axes>"
      ]
     },
     "metadata": {
      "needs_background": "light"
     },
     "output_type": "display_data"
    }
   ],
   "source": [
    "import matplotlib.pyplot as plt\n",
    "plt.plot(history.history['loss'],'r',linewidth=2, label='Train loss')\n",
    "plt.plot(history.history['val_loss'], 'g',linewidth=2, label='Validation loss')\n",
    "plt.title('LSTM')\n",
    "plt.xlabel('Epochs')\n",
    "plt.ylabel('MSE')\n",
    "plt.show()"
   ]
  },
  {
   "cell_type": "code",
   "execution_count": 66,
   "id": "6eee2c86",
   "metadata": {
    "scrolled": true
   },
   "outputs": [
    {
     "name": "stdout",
     "output_type": "stream",
     "text": [
      "3/3 [==============================] - 1s 8ms/step\n",
      "<class 'pandas.core.series.Series'>\n",
      "<class 'numpy.ndarray'>\n"
     ]
    },
    {
     "data": {
      "text/plain": [
       "0.0164567625316665"
      ]
     },
     "execution_count": 66,
     "metadata": {},
     "output_type": "execute_result"
    }
   ],
   "source": [
    "targets = test[target_col][window_len:]\n",
    "preds = model.predict(X_test).squeeze()\n",
    "mean_absolute_error(preds, y_test)\n",
    "print(type(targets))\n",
    "print(type(preds))\n",
    "mean_absolute_error(preds, y_test)"
   ]
  },
  {
   "cell_type": "code",
   "execution_count": 67,
   "id": "be650904",
   "metadata": {},
   "outputs": [
    {
     "data": {
      "text/plain": [
       "0.0006241331621091323"
      ]
     },
     "execution_count": 67,
     "metadata": {},
     "output_type": "execute_result"
    }
   ],
   "source": [
    "from sklearn.metrics import mean_squared_error\n",
    "MAE=mean_squared_error(preds, y_test)\n",
    "MAE"
   ]
  },
  {
   "cell_type": "code",
   "execution_count": 68,
   "id": "2dcea60c",
   "metadata": {},
   "outputs": [
    {
     "data": {
      "text/plain": [
       "0.801411271044683"
      ]
     },
     "execution_count": 68,
     "metadata": {},
     "output_type": "execute_result"
    }
   ],
   "source": [
    "from sklearn.metrics import r2_score\n",
    "R2=r2_score(y_test, preds)\n",
    "R2"
   ]
  },
  {
   "cell_type": "code",
   "execution_count": 69,
   "id": "7d900b9e",
   "metadata": {},
   "outputs": [
    {
     "data": {
      "image/png": "[encoded data removed]",
      "text/plain": [
       "<Figure size 936x504 with 1 Axes>"
      ]
     },
     "metadata": {
      "needs_background": "light"
     },
     "output_type": "display_data"
    }
   ],
   "source": [
    "preds = test[target_col].values[:-window_len] * (preds + 1)\n",
    "preds = pd.Series(index=targets.index, data=preds)\n",
    "line_plot(targets, preds, 'actual', 'prediction', lw=3)"
   ]
  },
  {
   "cell_type": "code",
   "execution_count": null,
   "id": "18c1b517",
   "metadata": {},
   "outputs": [],
   "source": []
  }
 ],
 "metadata": {
  "kernelspec": {
   "display_name": "Python 3 (ipykernel)",
   "language": "python",
   "name": "python3"
  },
  "language_info": {
   "codemirror_mode": {
    "name": "ipython",
    "version": 3
   },
   "file_extension": ".py",
   "mimetype": "text/x-python",
   "name": "python",
   "nbconvert_exporter": "python",
   "pygments_lexer": "ipython3",
   "version": "3.9.7"
  }
 },
 "nbformat": 4,
 "nbformat_minor": 5
}
