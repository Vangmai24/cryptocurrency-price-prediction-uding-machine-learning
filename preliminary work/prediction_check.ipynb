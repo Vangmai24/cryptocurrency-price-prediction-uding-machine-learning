{
 "cells": [
  {
   "cell_type": "code",
   "execution_count": 2,
   "id": "282e5cfe",
   "metadata": {},
   "outputs": [],
   "source": [
    "#tensorflow_version 2.x\n",
    "import json\n",
    "import requests\n",
    "from keras.models import Sequential\n",
    "from keras.layers import Activation, Dense, Dropout, LSTM\n",
    "import matplotlib.pyplot as plt\n",
    "import numpy as np\n",
    "import pandas as pd\n",
    "import seaborn as sns\n",
    "from sklearn.metrics import mean_absolute_error\n",
    "#matplotlib inline"
   ]
  },
  {
   "cell_type": "code",
   "execution_count": 3,
   "id": "39defe46",
   "metadata": {},
   "outputs": [
    {
     "name": "stdout",
     "output_type": "stream",
     "text": [
      "<Response [200]>\n"
     ]
    }
   ],
   "source": [
    "endpoint = 'https://min-api.cryptocompare.com/data/histoday'\n",
    "res = requests.get(endpoint + '?fsym=BTC&tsym=CAD&limit=2000')\n",
    "print(res)\n",
    "hist = pd.DataFrame(json.loads(res.content)['Data'])\n",
    "'''\n",
    "predictive = {\"time\":[]}\n",
    "for i in range(100):\n",
    "    predictive[\"time\"].append(hist[\"time\"][2000] + (i+1)*86400)\n",
    "    \n",
    "predictive = pd.DataFrame(predictive)\n",
    "print(predictive)\n",
    "hist = pd.concat([hist,predictive],ignore_index = True)\n",
    "print(hist)\n",
    "'''\n",
    "hist = hist.set_index('time')\n",
    "hist.index = pd.to_datetime(hist.index, unit='s')\n",
    "target_col = 'close'"
   ]
  },
  {
   "cell_type": "code",
   "execution_count": 4,
   "id": "3610f9f7",
   "metadata": {},
   "outputs": [
    {
     "name": "stdout",
     "output_type": "stream",
     "text": [
      "                high       low      open  volumefrom    volumeto     close  \\\n",
      "time                                                                         \n",
      "2017-09-09   5679.84   5357.94   5679.84      440.17  2400710.76   5491.58   \n",
      "2017-09-10   5492.28   5142.90   5491.58      775.26  4123768.95   5351.42   \n",
      "2017-09-11   5436.99   5210.52   5351.42      591.76  3135539.49   5289.03   \n",
      "2017-09-12   5468.19   5207.47   5289.03      704.71  3747790.10   5233.51   \n",
      "2017-09-13   5305.66   4853.89   5233.51     1478.10  7429071.14   4982.82   \n",
      "...              ...       ...       ...         ...         ...       ...   \n",
      "2023-02-26  32198.13  31409.13  31542.40       48.99  1554088.67  32014.06   \n",
      "2023-02-27  32414.07  31459.63  32014.06       73.08  2329348.39  31890.81   \n",
      "2023-02-28  32083.25  31435.88  31890.81       77.81  2475149.21  31541.25   \n",
      "2023-03-01  32832.70  31463.58  31541.25       98.50  3163952.33  32125.12   \n",
      "2023-03-02  32315.95  31774.40  32125.12       18.73   598553.52  31816.97   \n",
      "\n",
      "           conversionType conversionSymbol  \n",
      "time                                        \n",
      "2017-09-09         direct                   \n",
      "2017-09-10         direct                   \n",
      "2017-09-11         direct                   \n",
      "2017-09-12         direct                   \n",
      "2017-09-13         direct                   \n",
      "...                   ...              ...  \n",
      "2023-02-26         direct                   \n",
      "2023-02-27         direct                   \n",
      "2023-02-28         direct                   \n",
      "2023-03-01         direct                   \n",
      "2023-03-02         direct                   \n",
      "\n",
      "[2001 rows x 8 columns]\n"
     ]
    }
   ],
   "source": [
    "print(hist)"
   ]
  },
  {
   "cell_type": "code",
   "execution_count": 5,
   "id": "d5bae52a",
   "metadata": {},
   "outputs": [],
   "source": [
    "hist.drop([\"conversionType\", \"conversionSymbol\"], axis = 'columns', inplace = True)"
   ]
  },
  {
   "cell_type": "code",
   "execution_count": 6,
   "id": "6f533ae5",
   "metadata": {},
   "outputs": [],
   "source": [
    "def train_test_split(df, test_size=0.2):\n",
    "    split_row = len(df) - int(test_size * len(df))\n",
    "    train_data = df.iloc[:split_row]\n",
    "    test_data = df.iloc[split_row:]\n",
    "    return train_data, test_data"
   ]
  },
  {
   "cell_type": "code",
   "execution_count": 7,
   "id": "a2bfc85a",
   "metadata": {},
   "outputs": [],
   "source": [
    "train, test = train_test_split(hist, test_size=0.1)"
   ]
  },
  {
   "cell_type": "code",
   "execution_count": 8,
   "id": "42794928",
   "metadata": {},
   "outputs": [
    {
     "data": {
      "text/html": [
       "<div>\n",
       "<style scoped>\n",
       "    .dataframe tbody tr th:only-of-type {\n",
       "        vertical-align: middle;\n",
       "    }\n",
       "\n",
       "    .dataframe tbody tr th {\n",
       "        vertical-align: top;\n",
       "    }\n",
       "\n",
       "    .dataframe thead th {\n",
       "        text-align: right;\n",
       "    }\n",
       "</style>\n",
       "<table border=\"1\" class=\"dataframe\">\n",
       "  <thead>\n",
       "    <tr style=\"text-align: right;\">\n",
       "      <th></th>\n",
       "      <th>high</th>\n",
       "      <th>low</th>\n",
       "      <th>open</th>\n",
       "      <th>volumefrom</th>\n",
       "      <th>volumeto</th>\n",
       "      <th>close</th>\n",
       "    </tr>\n",
       "    <tr>\n",
       "      <th>time</th>\n",
       "      <th></th>\n",
       "      <th></th>\n",
       "      <th></th>\n",
       "      <th></th>\n",
       "      <th></th>\n",
       "      <th></th>\n",
       "    </tr>\n",
       "  </thead>\n",
       "  <tbody>\n",
       "    <tr>\n",
       "      <th>2017-09-09</th>\n",
       "      <td>5679.84</td>\n",
       "      <td>5357.94</td>\n",
       "      <td>5679.84</td>\n",
       "      <td>440.17</td>\n",
       "      <td>2400710.76</td>\n",
       "      <td>5491.58</td>\n",
       "    </tr>\n",
       "    <tr>\n",
       "      <th>2017-09-10</th>\n",
       "      <td>5492.28</td>\n",
       "      <td>5142.90</td>\n",
       "      <td>5491.58</td>\n",
       "      <td>775.26</td>\n",
       "      <td>4123768.95</td>\n",
       "      <td>5351.42</td>\n",
       "    </tr>\n",
       "    <tr>\n",
       "      <th>2017-09-11</th>\n",
       "      <td>5436.99</td>\n",
       "      <td>5210.52</td>\n",
       "      <td>5351.42</td>\n",
       "      <td>591.76</td>\n",
       "      <td>3135539.49</td>\n",
       "      <td>5289.03</td>\n",
       "    </tr>\n",
       "    <tr>\n",
       "      <th>2017-09-12</th>\n",
       "      <td>5468.19</td>\n",
       "      <td>5207.47</td>\n",
       "      <td>5289.03</td>\n",
       "      <td>704.71</td>\n",
       "      <td>3747790.10</td>\n",
       "      <td>5233.51</td>\n",
       "    </tr>\n",
       "    <tr>\n",
       "      <th>2017-09-13</th>\n",
       "      <td>5305.66</td>\n",
       "      <td>4853.89</td>\n",
       "      <td>5233.51</td>\n",
       "      <td>1478.10</td>\n",
       "      <td>7429071.14</td>\n",
       "      <td>4982.82</td>\n",
       "    </tr>\n",
       "    <tr>\n",
       "      <th>...</th>\n",
       "      <td>...</td>\n",
       "      <td>...</td>\n",
       "      <td>...</td>\n",
       "      <td>...</td>\n",
       "      <td>...</td>\n",
       "      <td>...</td>\n",
       "    </tr>\n",
       "    <tr>\n",
       "      <th>2022-08-10</th>\n",
       "      <td>30996.78</td>\n",
       "      <td>29260.70</td>\n",
       "      <td>29833.82</td>\n",
       "      <td>168.04</td>\n",
       "      <td>5079627.37</td>\n",
       "      <td>30559.19</td>\n",
       "    </tr>\n",
       "    <tr>\n",
       "      <th>2022-08-11</th>\n",
       "      <td>31752.09</td>\n",
       "      <td>30512.52</td>\n",
       "      <td>30559.19</td>\n",
       "      <td>110.87</td>\n",
       "      <td>3454334.80</td>\n",
       "      <td>30594.59</td>\n",
       "    </tr>\n",
       "    <tr>\n",
       "      <th>2022-08-12</th>\n",
       "      <td>31245.77</td>\n",
       "      <td>30219.04</td>\n",
       "      <td>30594.59</td>\n",
       "      <td>68.26</td>\n",
       "      <td>2089715.54</td>\n",
       "      <td>31221.84</td>\n",
       "    </tr>\n",
       "    <tr>\n",
       "      <th>2022-08-13</th>\n",
       "      <td>31783.80</td>\n",
       "      <td>31125.84</td>\n",
       "      <td>31221.84</td>\n",
       "      <td>55.51</td>\n",
       "      <td>1740648.78</td>\n",
       "      <td>31245.69</td>\n",
       "    </tr>\n",
       "    <tr>\n",
       "      <th>2022-08-14</th>\n",
       "      <td>31978.19</td>\n",
       "      <td>30922.14</td>\n",
       "      <td>31245.69</td>\n",
       "      <td>49.49</td>\n",
       "      <td>1552298.06</td>\n",
       "      <td>31074.45</td>\n",
       "    </tr>\n",
       "  </tbody>\n",
       "</table>\n",
       "<p>1801 rows × 6 columns</p>\n",
       "</div>"
      ],
      "text/plain": [
       "                high       low      open  volumefrom    volumeto     close\n",
       "time                                                                      \n",
       "2017-09-09   5679.84   5357.94   5679.84      440.17  2400710.76   5491.58\n",
       "2017-09-10   5492.28   5142.90   5491.58      775.26  4123768.95   5351.42\n",
       "2017-09-11   5436.99   5210.52   5351.42      591.76  3135539.49   5289.03\n",
       "2017-09-12   5468.19   5207.47   5289.03      704.71  3747790.10   5233.51\n",
       "2017-09-13   5305.66   4853.89   5233.51     1478.10  7429071.14   4982.82\n",
       "...              ...       ...       ...         ...         ...       ...\n",
       "2022-08-10  30996.78  29260.70  29833.82      168.04  5079627.37  30559.19\n",
       "2022-08-11  31752.09  30512.52  30559.19      110.87  3454334.80  30594.59\n",
       "2022-08-12  31245.77  30219.04  30594.59       68.26  2089715.54  31221.84\n",
       "2022-08-13  31783.80  31125.84  31221.84       55.51  1740648.78  31245.69\n",
       "2022-08-14  31978.19  30922.14  31245.69       49.49  1552298.06  31074.45\n",
       "\n",
       "[1801 rows x 6 columns]"
      ]
     },
     "execution_count": 8,
     "metadata": {},
     "output_type": "execute_result"
    }
   ],
   "source": [
    "train"
   ]
  },
  {
   "cell_type": "code",
   "execution_count": 9,
   "id": "6798f4bd",
   "metadata": {},
   "outputs": [
    {
     "data": {
      "text/html": [
       "<div>\n",
       "<style scoped>\n",
       "    .dataframe tbody tr th:only-of-type {\n",
       "        vertical-align: middle;\n",
       "    }\n",
       "\n",
       "    .dataframe tbody tr th {\n",
       "        vertical-align: top;\n",
       "    }\n",
       "\n",
       "    .dataframe thead th {\n",
       "        text-align: right;\n",
       "    }\n",
       "</style>\n",
       "<table border=\"1\" class=\"dataframe\">\n",
       "  <thead>\n",
       "    <tr style=\"text-align: right;\">\n",
       "      <th></th>\n",
       "      <th>high</th>\n",
       "      <th>low</th>\n",
       "      <th>open</th>\n",
       "      <th>volumefrom</th>\n",
       "      <th>volumeto</th>\n",
       "      <th>close</th>\n",
       "    </tr>\n",
       "    <tr>\n",
       "      <th>time</th>\n",
       "      <th></th>\n",
       "      <th></th>\n",
       "      <th></th>\n",
       "      <th></th>\n",
       "      <th></th>\n",
       "      <th></th>\n",
       "    </tr>\n",
       "  </thead>\n",
       "  <tbody>\n",
       "    <tr>\n",
       "      <th>2022-08-15</th>\n",
       "      <td>32186.75</td>\n",
       "      <td>30717.06</td>\n",
       "      <td>31074.45</td>\n",
       "      <td>99.81</td>\n",
       "      <td>3113486.85</td>\n",
       "      <td>31138.30</td>\n",
       "    </tr>\n",
       "    <tr>\n",
       "      <th>2022-08-16</th>\n",
       "      <td>31288.21</td>\n",
       "      <td>30494.96</td>\n",
       "      <td>31138.30</td>\n",
       "      <td>80.67</td>\n",
       "      <td>2486416.40</td>\n",
       "      <td>30644.15</td>\n",
       "    </tr>\n",
       "    <tr>\n",
       "      <th>2022-08-17</th>\n",
       "      <td>31384.29</td>\n",
       "      <td>29950.53</td>\n",
       "      <td>30644.15</td>\n",
       "      <td>103.47</td>\n",
       "      <td>3160067.80</td>\n",
       "      <td>30161.69</td>\n",
       "    </tr>\n",
       "    <tr>\n",
       "      <th>2022-08-18</th>\n",
       "      <td>30418.14</td>\n",
       "      <td>29994.76</td>\n",
       "      <td>30161.69</td>\n",
       "      <td>104.48</td>\n",
       "      <td>3163566.26</td>\n",
       "      <td>30055.79</td>\n",
       "    </tr>\n",
       "    <tr>\n",
       "      <th>2022-08-19</th>\n",
       "      <td>30055.79</td>\n",
       "      <td>27057.85</td>\n",
       "      <td>30055.79</td>\n",
       "      <td>141.93</td>\n",
       "      <td>4014583.45</td>\n",
       "      <td>27080.52</td>\n",
       "    </tr>\n",
       "    <tr>\n",
       "      <th>...</th>\n",
       "      <td>...</td>\n",
       "      <td>...</td>\n",
       "      <td>...</td>\n",
       "      <td>...</td>\n",
       "      <td>...</td>\n",
       "      <td>...</td>\n",
       "    </tr>\n",
       "    <tr>\n",
       "      <th>2023-02-26</th>\n",
       "      <td>32198.13</td>\n",
       "      <td>31409.13</td>\n",
       "      <td>31542.40</td>\n",
       "      <td>48.99</td>\n",
       "      <td>1554088.67</td>\n",
       "      <td>32014.06</td>\n",
       "    </tr>\n",
       "    <tr>\n",
       "      <th>2023-02-27</th>\n",
       "      <td>32414.07</td>\n",
       "      <td>31459.63</td>\n",
       "      <td>32014.06</td>\n",
       "      <td>73.08</td>\n",
       "      <td>2329348.39</td>\n",
       "      <td>31890.81</td>\n",
       "    </tr>\n",
       "    <tr>\n",
       "      <th>2023-02-28</th>\n",
       "      <td>32083.25</td>\n",
       "      <td>31435.88</td>\n",
       "      <td>31890.81</td>\n",
       "      <td>77.81</td>\n",
       "      <td>2475149.21</td>\n",
       "      <td>31541.25</td>\n",
       "    </tr>\n",
       "    <tr>\n",
       "      <th>2023-03-01</th>\n",
       "      <td>32832.70</td>\n",
       "      <td>31463.58</td>\n",
       "      <td>31541.25</td>\n",
       "      <td>98.50</td>\n",
       "      <td>3163952.33</td>\n",
       "      <td>32125.12</td>\n",
       "    </tr>\n",
       "    <tr>\n",
       "      <th>2023-03-02</th>\n",
       "      <td>32315.95</td>\n",
       "      <td>31774.40</td>\n",
       "      <td>32125.12</td>\n",
       "      <td>18.73</td>\n",
       "      <td>598553.52</td>\n",
       "      <td>31816.97</td>\n",
       "    </tr>\n",
       "  </tbody>\n",
       "</table>\n",
       "<p>200 rows × 6 columns</p>\n",
       "</div>"
      ],
      "text/plain": [
       "                high       low      open  volumefrom    volumeto     close\n",
       "time                                                                      \n",
       "2022-08-15  32186.75  30717.06  31074.45       99.81  3113486.85  31138.30\n",
       "2022-08-16  31288.21  30494.96  31138.30       80.67  2486416.40  30644.15\n",
       "2022-08-17  31384.29  29950.53  30644.15      103.47  3160067.80  30161.69\n",
       "2022-08-18  30418.14  29994.76  30161.69      104.48  3163566.26  30055.79\n",
       "2022-08-19  30055.79  27057.85  30055.79      141.93  4014583.45  27080.52\n",
       "...              ...       ...       ...         ...         ...       ...\n",
       "2023-02-26  32198.13  31409.13  31542.40       48.99  1554088.67  32014.06\n",
       "2023-02-27  32414.07  31459.63  32014.06       73.08  2329348.39  31890.81\n",
       "2023-02-28  32083.25  31435.88  31890.81       77.81  2475149.21  31541.25\n",
       "2023-03-01  32832.70  31463.58  31541.25       98.50  3163952.33  32125.12\n",
       "2023-03-02  32315.95  31774.40  32125.12       18.73   598553.52  31816.97\n",
       "\n",
       "[200 rows x 6 columns]"
      ]
     },
     "execution_count": 9,
     "metadata": {},
     "output_type": "execute_result"
    }
   ],
   "source": [
    "test"
   ]
  },
  {
   "cell_type": "code",
   "execution_count": 10,
   "id": "0c4ba6d6",
   "metadata": {},
   "outputs": [],
   "source": [
    "def line_plot(line1, line2, label1=None, label2=None, title='', lw=2):\n",
    "    fig, ax = plt.subplots(1, figsize=(13, 7))\n",
    "    ax.plot(line1, label=label1, linewidth=lw)\n",
    "    ax.plot(line2, label=label2, linewidth=lw)\n",
    "    ax.set_ylabel('price [CAD]', fontsize=14)\n",
    "    ax.set_title(title, fontsize=16)\n",
    "    ax.legend(loc='best', fontsize=16);"
   ]
  },
  {
   "cell_type": "code",
   "execution_count": 11,
   "id": "7500e8bb",
   "metadata": {},
   "outputs": [
    {
     "data": {
      "image/png": "[encoded data removed]",
      "text/plain": [
       "<Figure size 936x504 with 1 Axes>"
      ]
     },
     "metadata": {
      "needs_background": "light"
     },
     "output_type": "display_data"
    }
   ],
   "source": [
    "line_plot(train[target_col], test[target_col], 'training', 'test', title='')"
   ]
  },
  {
   "cell_type": "code",
   "execution_count": 12,
   "id": "49e59ed7",
   "metadata": {},
   "outputs": [],
   "source": [
    "def normalise_zero_base(df):\n",
    "    return df / df.iloc[0] - 1\n",
    "\n",
    "def normalise_min_max(df):\n",
    "    return (df - df.min()) / (data.max() - df.min())"
   ]
  },
  {
   "cell_type": "code",
   "execution_count": 13,
   "id": "98bcac13",
   "metadata": {},
   "outputs": [],
   "source": [
    "def extract_window_data(df, window_len=5, zero_base=True):\n",
    "    window_data = []\n",
    "    for idx in range(len(df) - window_len):\n",
    "        tmp = df[idx: (idx + window_len)].copy()\n",
    "        if zero_base:\n",
    "            tmp = normalise_zero_base(tmp)\n",
    "        window_data.append(tmp.values)\n",
    "    return np.array(window_data)"
   ]
  },
  {
   "cell_type": "code",
   "execution_count": 14,
   "id": "34e33815",
   "metadata": {},
   "outputs": [],
   "source": [
    "def prepare_data(df, target_col, window_len=10, zero_base=True, test_size=0.1):\n",
    "    train_data, test_data = train_test_split(df, test_size=test_size)\n",
    "    X_train = extract_window_data(train_data, window_len, zero_base)\n",
    "    \n",
    "    X_test = extract_window_data(test_data, window_len, zero_base)\n",
    "    y_train = train_data[target_col][window_len:].values\n",
    "    y_test = test_data[target_col][window_len:].values\n",
    "    if zero_base:\n",
    "        y_train = y_train / train_data[target_col][:-window_len].values - 1\n",
    "        y_test = y_test / test_data[target_col][:-window_len].values - 1\n",
    "\n",
    "    return train_data, test_data, X_train, X_test, y_train, y_test"
   ]
  },
  {
   "cell_type": "code",
   "execution_count": 15,
   "id": "1aa51385",
   "metadata": {},
   "outputs": [],
   "source": [
    "def build_lstm_model(input_data, output_size, neurons=300, activ_func='linear',\n",
    "                     dropout=0.2, loss='mse', optimizer='adam'):\n",
    "    model = Sequential()\n",
    "    model.add(LSTM(neurons, input_shape=(input_data.shape[1], input_data.shape[2])))\n",
    "    model.add(Dropout(dropout))\n",
    "    model.add(Dense(units=output_size))\n",
    "    model.add(Activation(activ_func))\n",
    "\n",
    "    model.compile(loss=loss, optimizer=optimizer)\n",
    "    return model"
   ]
  },
  {
   "cell_type": "code",
   "execution_count": 16,
   "id": "b3be3fe3",
   "metadata": {},
   "outputs": [],
   "source": [
    "np.random.seed(42)\n",
    "window_len = 5\n",
    "test_size = 0.1\n",
    "zero_base = True\n",
    "lstm_neurons = 300\n",
    "epochs = 50\n",
    "batch_size = 36\n",
    "loss = 'mse'\n",
    "dropout = 0.2\n",
    "optimizer = 'adam'"
   ]
  },
  {
   "cell_type": "code",
   "execution_count": 17,
   "id": "d4f3fc9f",
   "metadata": {},
   "outputs": [],
   "source": [
    "train, test, X_train, X_test, y_train, y_test = prepare_data(hist, target_col, window_len=window_len, zero_base=zero_base, test_size=test_size)"
   ]
  },
  {
   "cell_type": "code",
   "execution_count": 18,
   "id": "3fc82fa3",
   "metadata": {},
   "outputs": [
    {
     "name": "stdout",
     "output_type": "stream",
     "text": [
      "[[[ 0.00000000e+00  0.00000000e+00  0.00000000e+00  0.00000000e+00\n",
      "    0.00000000e+00  0.00000000e+00]\n",
      "  [-2.79164563e-02 -7.23050969e-03  2.05474272e-03 -1.91764352e-01\n",
      "   -2.01404560e-01 -1.58695240e-02]\n",
      "  [-2.49313770e-02 -2.49545367e-02 -1.38473891e-02  3.66696724e-02\n",
      "    1.49610235e-02 -3.13636261e-02]\n",
      "  [-5.49483871e-02 -2.35146202e-02 -2.93733276e-02  4.67888989e-02\n",
      "    1.60846705e-02 -3.47645825e-02]\n",
      "  [-6.62061252e-02 -1.19126310e-01 -3.27812721e-02  4.22001803e-01\n",
      "    2.89417185e-01 -1.30314757e-01]]\n",
      "\n",
      " [[ 0.00000000e+00  0.00000000e+00  0.00000000e+00  0.00000000e+00\n",
      "    0.00000000e+00  0.00000000e+00]\n",
      "  [ 3.07080526e-03 -1.78531141e-02 -1.58695240e-02  2.82632949e-01\n",
      "    2.70932656e-01 -1.57439511e-02]\n",
      "  [-2.78082383e-02 -1.64027105e-02 -3.13636261e-02  2.95153093e-01\n",
      "    2.72339685e-01 -1.91997494e-02]\n",
      "  [-3.93892779e-02 -1.12710756e-01 -3.47645825e-02  7.59390108e-01\n",
      "    6.14606246e-01 -1.16290711e-01]\n",
      "  [-1.13137185e-01 -1.12946861e-01 -1.30314757e-01 -2.37510847e-01\n",
      "   -3.19822987e-01 -1.02946239e-01]]\n",
      "\n",
      " [[ 0.00000000e+00  0.00000000e+00  0.00000000e+00  0.00000000e+00\n",
      "    0.00000000e+00  0.00000000e+00]\n",
      "  [-3.07845103e-02  1.47676852e-03 -1.57439511e-02  9.76128346e-03\n",
      "    1.10708384e-03 -3.51107647e-03]\n",
      "  [-4.23300957e-02 -9.65819303e-02 -1.91997494e-02  3.71701943e-01\n",
      "    2.70410543e-01 -1.02155085e-01]\n",
      "  [-1.15852231e-01 -9.68223267e-02 -1.16290711e-01 -4.05528172e-01\n",
      "   -4.64820571e-01 -8.85971575e-02]\n",
      "  [-9.47091682e-02 -8.46833094e-02 -1.02946239e-01 -4.00985793e-01\n",
      "   -4.54622451e-01 -7.24597992e-02]]\n",
      "\n",
      " ...\n",
      "\n",
      " [[ 0.00000000e+00  0.00000000e+00  0.00000000e+00  0.00000000e+00\n",
      "    0.00000000e+00  0.00000000e+00]\n",
      "  [-1.76192286e-02 -2.57670349e-02 -9.74422739e-03  1.03579347e-01\n",
      "    8.33140260e-02 -2.63152296e-02]\n",
      "  [-4.84861287e-02 -2.87265254e-02 -3.58030354e-02 -4.44409249e-01\n",
      "   -4.64863156e-01 -2.73550232e-02]\n",
      "  [-3.11401224e-02 -1.85300166e-02 -3.68326971e-02 -4.82736775e-01\n",
      "   -4.96069399e-01 -1.28108627e-02]\n",
      "  [-2.46423661e-02 -1.69519966e-02 -2.24302581e-02 -2.28381375e-01\n",
      "   -2.44682779e-01 -1.66114135e-02]]\n",
      "\n",
      " [[ 0.00000000e+00  0.00000000e+00  0.00000000e+00  0.00000000e+00\n",
      "    0.00000000e+00  0.00000000e+00]\n",
      "  [-3.14205052e-02 -3.03776470e-03 -2.63152296e-02 -4.96555683e-01\n",
      "   -5.06018725e-01 -1.06789561e-03]\n",
      "  [-1.37633942e-02  7.42842682e-03 -2.73550232e-02 -5.31285878e-01\n",
      "   -5.34825001e-01  1.38693418e-02]\n",
      "  [-7.14909915e-03  9.04818310e-03 -1.28108627e-02 -3.00803674e-01\n",
      "   -3.02771678e-01  9.96607563e-03]\n",
      "  [-1.72821968e-02  8.28641653e-03 -1.66114135e-02 -2.55549177e-01\n",
      "   -2.59130090e-01 -1.10431554e-03]]\n",
      "\n",
      " [[ 0.00000000e+00  0.00000000e+00  0.00000000e+00  0.00000000e+00\n",
      "    0.00000000e+00  0.00000000e+00]\n",
      "  [ 1.82299037e-02  1.04980822e-02 -1.06789561e-03 -6.89851767e-02\n",
      "   -5.83145097e-02  1.49532058e-02]\n",
      "  [ 2.50587651e-02  1.21227739e-02  1.38693418e-02  3.88825542e-01\n",
      "    4.11446865e-01  1.10457670e-02]\n",
      "  [ 1.45969520e-02  1.13586862e-02  9.96607563e-03  4.78715317e-01\n",
      "    4.99793508e-01 -3.64588617e-05]\n",
      "  [ 3.82974713e-02  1.22498538e-02 -1.10431554e-03  8.71911821e-01\n",
      "    9.17167314e-01  1.84741808e-02]]]\n",
      "Epoch 1/50\n",
      "50/50 [==============================] - 4s 28ms/step - loss: 0.0097 - val_loss: 0.0014\n",
      "Epoch 2/50\n",
      "50/50 [==============================] - 1s 18ms/step - loss: 0.0038 - val_loss: 9.5341e-04\n",
      "Epoch 3/50\n",
      "50/50 [==============================] - 1s 18ms/step - loss: 0.0041 - val_loss: 0.0010\n",
      "Epoch 4/50\n",
      "50/50 [==============================] - 1s 19ms/step - loss: 0.0032 - val_loss: 7.8836e-04\n",
      "Epoch 5/50\n",
      "50/50 [==============================] - 1s 19ms/step - loss: 0.0038 - val_loss: 8.0291e-04\n",
      "Epoch 6/50\n",
      "50/50 [==============================] - 1s 19ms/step - loss: 0.0027 - val_loss: 7.4653e-04\n",
      "Epoch 7/50\n",
      "50/50 [==============================] - 1s 21ms/step - loss: 0.0029 - val_loss: 7.2700e-04\n",
      "Epoch 8/50\n",
      "50/50 [==============================] - 1s 21ms/step - loss: 0.0026 - val_loss: 8.0664e-04\n",
      "Epoch 9/50\n",
      "50/50 [==============================] - 1s 19ms/step - loss: 0.0024 - val_loss: 6.9902e-04\n",
      "Epoch 10/50\n",
      "50/50 [==============================] - 1s 18ms/step - loss: 0.0025 - val_loss: 6.9955e-04\n",
      "Epoch 11/50\n",
      "50/50 [==============================] - 1s 18ms/step - loss: 0.0024 - val_loss: 7.2568e-04\n",
      "Epoch 12/50\n",
      "50/50 [==============================] - 1s 17ms/step - loss: 0.0023 - val_loss: 7.9919e-04\n",
      "Epoch 13/50\n",
      "50/50 [==============================] - 1s 18ms/step - loss: 0.0023 - val_loss: 8.6355e-04\n",
      "Epoch 14/50\n",
      "50/50 [==============================] - 1s 18ms/step - loss: 0.0023 - val_loss: 6.6547e-04\n",
      "Epoch 15/50\n",
      "50/50 [==============================] - 1s 18ms/step - loss: 0.0022 - val_loss: 6.6994e-04\n",
      "Epoch 16/50\n",
      "50/50 [==============================] - 1s 18ms/step - loss: 0.0022 - val_loss: 7.2661e-04\n",
      "Epoch 17/50\n",
      "50/50 [==============================] - 1s 19ms/step - loss: 0.0024 - val_loss: 8.4446e-04\n",
      "Epoch 18/50\n",
      "50/50 [==============================] - 1s 17ms/step - loss: 0.0022 - val_loss: 7.0213e-04\n",
      "Epoch 19/50\n",
      "50/50 [==============================] - 1s 17ms/step - loss: 0.0021 - val_loss: 7.9095e-04\n",
      "Epoch 20/50\n",
      "50/50 [==============================] - 1s 16ms/step - loss: 0.0020 - val_loss: 6.8252e-04\n",
      "Epoch 21/50\n",
      "50/50 [==============================] - 1s 17ms/step - loss: 0.0024 - val_loss: 6.6317e-04\n",
      "Epoch 22/50\n",
      "50/50 [==============================] - 1s 17ms/step - loss: 0.0023 - val_loss: 6.5901e-04\n",
      "Epoch 23/50\n",
      "50/50 [==============================] - 1s 17ms/step - loss: 0.0021 - val_loss: 7.0615e-04\n",
      "Epoch 24/50\n",
      "50/50 [==============================] - 1s 19ms/step - loss: 0.0023 - val_loss: 6.8141e-04\n",
      "Epoch 25/50\n",
      "50/50 [==============================] - 1s 19ms/step - loss: 0.0017 - val_loss: 6.8275e-04\n",
      "Epoch 26/50\n",
      "50/50 [==============================] - 1s 19ms/step - loss: 0.0019 - val_loss: 6.8231e-04\n",
      "Epoch 27/50\n",
      "50/50 [==============================] - 1s 17ms/step - loss: 0.0019 - val_loss: 6.4904e-04\n",
      "Epoch 28/50\n",
      "50/50 [==============================] - 1s 17ms/step - loss: 0.0019 - val_loss: 6.4759e-04\n",
      "Epoch 29/50\n",
      "50/50 [==============================] - 1s 17ms/step - loss: 0.0019 - val_loss: 6.6181e-04\n",
      "Epoch 30/50\n",
      "50/50 [==============================] - 1s 16ms/step - loss: 0.0020 - val_loss: 7.1304e-04\n",
      "Epoch 31/50\n",
      "50/50 [==============================] - 1s 17ms/step - loss: 0.0020 - val_loss: 6.8033e-04\n",
      "Epoch 32/50\n",
      "50/50 [==============================] - 1s 17ms/step - loss: 0.0018 - val_loss: 6.5222e-04\n",
      "Epoch 33/50\n",
      "50/50 [==============================] - 1s 17ms/step - loss: 0.0020 - val_loss: 6.9868e-04\n",
      "Epoch 34/50\n",
      "50/50 [==============================] - 1s 17ms/step - loss: 0.0021 - val_loss: 6.4903e-04\n",
      "Epoch 35/50\n",
      "50/50 [==============================] - 1s 17ms/step - loss: 0.0019 - val_loss: 6.7728e-04\n",
      "Epoch 36/50\n",
      "50/50 [==============================] - 1s 17ms/step - loss: 0.0017 - val_loss: 6.8107e-04\n",
      "Epoch 37/50\n",
      "50/50 [==============================] - 1s 17ms/step - loss: 0.0017 - val_loss: 6.4618e-04\n",
      "Epoch 38/50\n",
      "50/50 [==============================] - 1s 17ms/step - loss: 0.0018 - val_loss: 7.1591e-04\n",
      "Epoch 39/50\n",
      "50/50 [==============================] - 1s 16ms/step - loss: 0.0017 - val_loss: 6.5966e-04\n",
      "Epoch 40/50\n",
      "50/50 [==============================] - 1s 17ms/step - loss: 0.0020 - val_loss: 6.6134e-04\n",
      "Epoch 41/50\n",
      "50/50 [==============================] - 1s 17ms/step - loss: 0.0019 - val_loss: 6.5490e-04\n",
      "Epoch 42/50\n",
      "50/50 [==============================] - 1s 18ms/step - loss: 0.0018 - val_loss: 7.1052e-04\n",
      "Epoch 43/50\n",
      "50/50 [==============================] - 1s 19ms/step - loss: 0.0019 - val_loss: 7.2297e-04\n",
      "Epoch 44/50\n",
      "50/50 [==============================] - 1s 20ms/step - loss: 0.0018 - val_loss: 6.7851e-04\n",
      "Epoch 45/50\n",
      "50/50 [==============================] - 1s 17ms/step - loss: 0.0018 - val_loss: 6.5467e-04\n",
      "Epoch 46/50\n",
      "50/50 [==============================] - 1s 17ms/step - loss: 0.0017 - val_loss: 7.0128e-04\n",
      "Epoch 47/50\n",
      "50/50 [==============================] - 1s 17ms/step - loss: 0.0017 - val_loss: 6.8425e-04\n",
      "Epoch 48/50\n",
      "50/50 [==============================] - 1s 18ms/step - loss: 0.0017 - val_loss: 6.7589e-04\n",
      "Epoch 49/50\n",
      "50/50 [==============================] - 1s 17ms/step - loss: 0.0017 - val_loss: 6.8353e-04\n",
      "Epoch 50/50\n"
     ]
    },
    {
     "name": "stdout",
     "output_type": "stream",
     "text": [
      "50/50 [==============================] - 1s 17ms/step - loss: 0.0017 - val_loss: 7.2224e-04\n",
      "<class 'keras.engine.sequential.Sequential'>\n",
      "<class 'keras.callbacks.History'>\n",
      "<class 'dict'>\n"
     ]
    }
   ],
   "source": [
    "print(X_test)\n",
    "model = build_lstm_model(X_train, output_size=1, neurons=lstm_neurons, dropout=dropout, loss=loss,optimizer=optimizer)\n",
    "history = model.fit(X_train, y_train, validation_data=(X_test, y_test), epochs=epochs, batch_size=batch_size, verbose=1, shuffle=True)\n",
    "print(type(model))\n",
    "print(type(history))\n",
    "print(type(history.history))"
   ]
  },
  {
   "cell_type": "code",
   "execution_count": 19,
   "id": "6bc4bc38",
   "metadata": {},
   "outputs": [
    {
     "name": "stdout",
     "output_type": "stream",
     "text": [
      "<keras.callbacks.History object at 0x00000144B08A81C0>\n"
     ]
    }
   ],
   "source": [
    "print(history)"
   ]
  },
  {
   "cell_type": "code",
   "execution_count": 20,
   "id": "1722e203",
   "metadata": {},
   "outputs": [
    {
     "data": {
      "image/png": "[encoded data removed]",
      "text/plain": [
       "<Figure size 432x288 with 1 Axes>"
      ]
     },
     "metadata": {
      "needs_background": "light"
     },
     "output_type": "display_data"
    }
   ],
   "source": [
    "import matplotlib.pyplot as plt\n",
    "plt.plot(history.history['loss'],'r',linewidth=2, label='Train loss')\n",
    "plt.plot(history.history['val_loss'], 'g',linewidth=2, label='Validation loss')\n",
    "plt.title('LSTM')\n",
    "plt.xlabel('Epochs')\n",
    "plt.ylabel('MSE')\n",
    "plt.show()"
   ]
  },
  {
   "cell_type": "code",
   "execution_count": 21,
   "id": "86f45276",
   "metadata": {},
   "outputs": [
    {
     "name": "stdout",
     "output_type": "stream",
     "text": [
      "7/7 [==============================] - 0s 7ms/step\n",
      "<class 'pandas.core.series.Series'>\n",
      "(195,)\n",
      "[-0.11718206 -0.08706295 -0.07513206 -0.07206898  0.02457117  0.01611636\n",
      " -0.05636474 -0.06337635 -0.08450575 -0.04806472 -0.07304042 -0.00137504\n",
      "  0.01217101  0.02758015 -0.01385035  0.01490483 -0.01430679 -0.06545951\n",
      " -0.03428662 -0.02882959  0.06083674  0.08823036  0.1489176   0.14702567\n",
      "  0.05021389 -0.04547209 -0.07682069 -0.0759786  -0.08212096 -0.03193243\n",
      " -0.02701541 -0.03336142 -0.05148116 -0.02062897  0.01893654 -0.00627878\n",
      "  0.01105834  0.05761403  0.00278652  0.0066958   0.04060932  0.05254108\n",
      "  0.01337809  0.00048056  0.01264408  0.0251731   0.02085283  0.02816168\n",
      "  0.02350258 -0.00166845 -0.02783844 -0.03891538 -0.04245236 -0.01461688\n",
      " -0.00066932 -0.00397414  0.00204342 -0.01085656  0.0114715  -0.00553149\n",
      " -0.00949524 -0.00709837  0.00645977 -0.02080048  0.00553584  0.00486854\n",
      "  0.0419124   0.07602857  0.05146522  0.05406006  0.07087744  0.02831823\n",
      " -0.0079833   0.01346368 -0.01787115 -0.0201411   0.0151955   0.02778637\n",
      "  0.01311063  0.00726991 -0.10284938 -0.24878759 -0.1835294  -0.20069228\n",
      " -0.21756317 -0.13331695  0.03347585 -0.04270097 -0.01772651  0.02193792\n",
      "  0.0361259   0.00808207 -0.02990753 -0.04549092 -0.02725799 -0.00860266\n",
      " -0.00802086  0.01852146  0.04138702  0.01917654 -0.01212712  0.00785713\n",
      "  0.03832467  0.03206902  0.04493439  0.0385841   0.03106428  0.00114921\n",
      "  0.02446968 -0.0023237   0.02901192  0.01871883  0.01831508  0.00028296\n",
      "  0.02077216  0.02761888  0.02924405  0.00858169 -0.02367058 -0.02248272\n",
      " -0.04772283 -0.07134441 -0.02720397  0.0040823   0.0007977  -0.00392115\n",
      "  0.02258525 -0.00623317  0.00099686 -0.01530864 -0.01435424 -0.01682939\n",
      " -0.01786277 -0.02551257 -0.01760172 -0.00782997  0.00154269  0.01025761\n",
      "  0.02238991  0.02518084  0.01707124  0.01763114  0.01521499  0.02591755\n",
      "  0.05546652  0.11068775  0.15887465  0.21832359  0.19432628  0.18099652\n",
      "  0.12310321  0.04567015  0.01000799  0.08507271  0.07201631  0.0719239\n",
      "  0.10210289  0.06799391  0.01860428  0.0083725   0.01269412  0.00086877\n",
      "  0.04324844 -0.00965635  0.00379615  0.02670017  0.0179732  -0.0056506\n",
      "  0.01940524 -0.00054708 -0.03000775 -0.00230064 -0.01721695 -0.05976866\n",
      " -0.05933747 -0.047176   -0.0664238  -0.05683922  0.01022783  0.12301392\n",
      "  0.08927935  0.13866737  0.13964617  0.10461662  0.02823915  0.04217567\n",
      " -0.01128988 -0.02211595 -0.03498355 -0.05552995 -0.03279383 -0.02619378\n",
      " -0.02739048  0.01738656  0.00870479]\n"
     ]
    },
    {
     "data": {
      "text/plain": [
       "0.018081147806179493"
      ]
     },
     "execution_count": 21,
     "metadata": {},
     "output_type": "execute_result"
    }
   ],
   "source": [
    "targets = test[target_col][window_len:]\n",
    "preds = model.predict(X_test).squeeze()\n",
    "mean_absolute_error(preds, y_test)\n",
    "print(type(targets))\n",
    "print(preds.shape)\n",
    "print(y_test)\n",
    "mean_absolute_error(preds, y_test)"
   ]
  },
  {
   "cell_type": "code",
   "execution_count": 22,
   "id": "0812eb36",
   "metadata": {},
   "outputs": [
    {
     "data": {
      "text/plain": [
       "0.000722241667195465"
      ]
     },
     "execution_count": 22,
     "metadata": {},
     "output_type": "execute_result"
    }
   ],
   "source": [
    "from sklearn.metrics import mean_squared_error\n",
    "MAE=mean_squared_error(preds, y_test)\n",
    "MAE"
   ]
  },
  {
   "cell_type": "code",
   "execution_count": 23,
   "id": "b47b74d6",
   "metadata": {},
   "outputs": [
    {
     "data": {
      "text/plain": [
       "0.8109464352325201"
      ]
     },
     "execution_count": 23,
     "metadata": {},
     "output_type": "execute_result"
    }
   ],
   "source": [
    "from sklearn.metrics import r2_score\n",
    "R2=r2_score(y_test, preds)\n",
    "R2"
   ]
  },
  {
   "cell_type": "code",
   "execution_count": 24,
   "id": "656320a5",
   "metadata": {},
   "outputs": [
    {
     "data": {
      "image/png": "[encoded data removed]",
      "text/plain": [
       "<Figure size 936x504 with 1 Axes>"
      ]
     },
     "metadata": {
      "needs_background": "light"
     },
     "output_type": "display_data"
    }
   ],
   "source": [
    "preds = test[target_col].values[:-window_len] * (preds + 1)\n",
    "preds = pd.Series(index=targets.index, data=preds)\n",
    "line_plot(targets, preds, 'actual', 'prediction', lw=3)"
   ]
  },
  {
   "cell_type": "code",
   "execution_count": 25,
   "id": "0121b3dc",
   "metadata": {},
   "outputs": [],
   "source": [
    "def predict_here(model , recentBatch , number):\n",
    "    #recent batch contains the last 5 data ponts of hist\n",
    "    \n",
    "    recentBatch\n",
    "    predictive = recentBatch[:]\n",
    "    while(number>0):\n",
    "        \n",
    "        to_predict = extract_window_data(predictive[-window_len:], window_len, zero_base)\n",
    "        print(to_predict)\n",
    "        predicted = model.predict(to_predict).squeeze()\n",
    "        predictive.append(predicted)\n",
    "        \n",
    "        number-=1\n",
    "    \n",
    "    return predictive\n",
    "    \n",
    "    "
   ]
  },
  {
   "cell_type": "code",
   "execution_count": 26,
   "id": "c5763024",
   "metadata": {},
   "outputs": [
    {
     "name": "stdout",
     "output_type": "stream",
     "text": [
      "[-0.03279383 -0.02619378 -0.02739048  0.01738656  0.00870479]\n",
      "1/1 [==============================] - 0s 404ms/step\n",
      "[0.03077354]\n",
      "[-0.03279383 -0.02619378 -0.02739048  0.01738656  0.00870479  0.03077354]\n"
     ]
    },
    {
     "ename": "AttributeError",
     "evalue": "'numpy.ndarray' object has no attribute 'values'",
     "output_type": "error",
     "traceback": [
      "\u001b[1;31m---------------------------------------------------------------------------\u001b[0m",
      "\u001b[1;31mAttributeError\u001b[0m                            Traceback (most recent call last)",
      "\u001b[1;32m~\\AppData\\Local\\Temp/ipykernel_11020/918194262.py\u001b[0m in \u001b[0;36m<module>\u001b[1;34m\u001b[0m\n\u001b[0;32m      7\u001b[0m \u001b[0mrecentBatch\u001b[0m \u001b[1;33m=\u001b[0m \u001b[0mnp\u001b[0m\u001b[1;33m.\u001b[0m\u001b[0mconcatenate\u001b[0m\u001b[1;33m(\u001b[0m\u001b[1;33m[\u001b[0m\u001b[0mnp\u001b[0m\u001b[1;33m.\u001b[0m\u001b[0marray\u001b[0m\u001b[1;33m(\u001b[0m\u001b[0mrecentBatch\u001b[0m\u001b[1;33m)\u001b[0m\u001b[1;33m,\u001b[0m \u001b[0mnp\u001b[0m\u001b[1;33m.\u001b[0m\u001b[0marray\u001b[0m\u001b[1;33m(\u001b[0m\u001b[0mpredicted\u001b[0m\u001b[1;33m[\u001b[0m\u001b[1;36m0\u001b[0m\u001b[1;33m]\u001b[0m\u001b[1;33m)\u001b[0m\u001b[1;33m]\u001b[0m\u001b[1;33m)\u001b[0m\u001b[1;33m\u001b[0m\u001b[1;33m\u001b[0m\u001b[0m\n\u001b[0;32m      8\u001b[0m \u001b[0mprint\u001b[0m\u001b[1;33m(\u001b[0m\u001b[0mrecentBatch\u001b[0m\u001b[1;33m)\u001b[0m\u001b[1;33m\u001b[0m\u001b[1;33m\u001b[0m\u001b[0m\n\u001b[1;32m----> 9\u001b[1;33m \u001b[0mprint\u001b[0m\u001b[1;33m(\u001b[0m\u001b[0mextract_window_data\u001b[0m\u001b[1;33m(\u001b[0m\u001b[0mrecentBatch\u001b[0m\u001b[1;33m,\u001b[0m \u001b[0mwindow_len\u001b[0m\u001b[1;33m,\u001b[0m \u001b[0mzero_base\u001b[0m\u001b[1;33m=\u001b[0m\u001b[1;32mFalse\u001b[0m\u001b[1;33m)\u001b[0m\u001b[1;33m)\u001b[0m\u001b[1;33m\u001b[0m\u001b[1;33m\u001b[0m\u001b[0m\n\u001b[0m\u001b[0;32m     10\u001b[0m \u001b[1;31m#print(predict_here(model, recentBatch , window_len , zero_base = false , 50))\u001b[0m\u001b[1;33m\u001b[0m\u001b[1;33m\u001b[0m\u001b[0m\n",
      "\u001b[1;32m~\\AppData\\Local\\Temp/ipykernel_11020/1125310772.py\u001b[0m in \u001b[0;36mextract_window_data\u001b[1;34m(df, window_len, zero_base)\u001b[0m\n\u001b[0;32m      5\u001b[0m         \u001b[1;32mif\u001b[0m \u001b[0mzero_base\u001b[0m\u001b[1;33m:\u001b[0m\u001b[1;33m\u001b[0m\u001b[1;33m\u001b[0m\u001b[0m\n\u001b[0;32m      6\u001b[0m             \u001b[0mtmp\u001b[0m \u001b[1;33m=\u001b[0m \u001b[0mnormalise_zero_base\u001b[0m\u001b[1;33m(\u001b[0m\u001b[0mtmp\u001b[0m\u001b[1;33m)\u001b[0m\u001b[1;33m\u001b[0m\u001b[1;33m\u001b[0m\u001b[0m\n\u001b[1;32m----> 7\u001b[1;33m         \u001b[0mwindow_data\u001b[0m\u001b[1;33m.\u001b[0m\u001b[0mappend\u001b[0m\u001b[1;33m(\u001b[0m\u001b[0mtmp\u001b[0m\u001b[1;33m.\u001b[0m\u001b[0mvalues\u001b[0m\u001b[1;33m)\u001b[0m\u001b[1;33m\u001b[0m\u001b[1;33m\u001b[0m\u001b[0m\n\u001b[0m\u001b[0;32m      8\u001b[0m     \u001b[1;32mreturn\u001b[0m \u001b[0mnp\u001b[0m\u001b[1;33m.\u001b[0m\u001b[0marray\u001b[0m\u001b[1;33m(\u001b[0m\u001b[0mwindow_data\u001b[0m\u001b[1;33m)\u001b[0m\u001b[1;33m\u001b[0m\u001b[1;33m\u001b[0m\u001b[0m\n",
      "\u001b[1;31mAttributeError\u001b[0m: 'numpy.ndarray' object has no attribute 'values'"
     ]
    }
   ],
   "source": [
    "# MODEL takes input in the format schema(195,5,6)\n",
    "\n",
    "recentBatch = y_test[-window_len:]\n",
    "print(recentBatch)\n",
    "predicted = model.predict([X_test[-1:]])\n",
    "print(predicted[0])\n",
    "recentBatch = np.concatenate([np.array(recentBatch), np.array(predicted[0])])\n",
    "print(recentBatch)                   \n",
    "print(extract_window_data(recentBatch, window_len, zero_base=False))\n",
    "#print(predict_here(model, recentBatch , window_len , zero_base = false , 50))"
   ]
  },
  {
   "cell_type": "code",
   "execution_count": null,
   "id": "bbce8e9e",
   "metadata": {},
   "outputs": [],
   "source": []
  }
 ],
 "metadata": {
  "kernelspec": {
   "display_name": "Python 3 (ipykernel)",
   "language": "python",
   "name": "python3"
  },
  "language_info": {
   "codemirror_mode": {
    "name": "ipython",
    "version": 3
   },
   "file_extension": ".py",
   "mimetype": "text/x-python",
   "name": "python",
   "nbconvert_exporter": "python",
   "pygments_lexer": "ipython3",
   "version": "3.9.7"
  }
 },
 "nbformat": 4,
 "nbformat_minor": 5
}
